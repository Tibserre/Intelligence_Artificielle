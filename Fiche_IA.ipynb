{
 "cells": [
  {
   "attachments": {},
   "cell_type": "markdown",
   "metadata": {},
   "source": [
    "# Classification\n",
    "- Classification SVM à marge souple (LinearSVC et Pipeline)\n",
    "- Classification SVM non linéaire (LinearSVC et Pipeline polynomial)\n",
    "- Classification Noyeau polynomial (SVC kernel poly et Pipeline)\n",
    "- Classification Noyau Radial Gaussien (SVC Kernel rbf et Pipeline standard)"
   ]
  },
  {
   "attachments": {},
   "cell_type": "markdown",
   "metadata": {},
   "source": [
    "### Préparation d'une classification"
   ]
  },
  {
   "cell_type": "code",
   "execution_count": 15,
   "metadata": {},
   "outputs": [
    {
     "name": "stdout",
     "output_type": "stream",
     "text": [
      "(400, 4096)\n",
      "(400, 4096)\n",
      "(400,)\n",
      "(300, 4096) (100, 4096)\n",
      "(300, 150)\n",
      "(100, 150)\n"
     ]
    }
   ],
   "source": [
    "import matplotlib.pyplot as plt\n",
    "from sklearn import datasets\n",
    "faces = datasets.fetch_olivetti_faces() \n",
    "print(faces.data.shape)\n",
    "X=faces.data\n",
    "y=faces.target\n",
    "print(X.shape)\n",
    "print(y.shape)   \n",
    "\n",
    "# Split de toutes les données\n",
    "from sklearn.model_selection import train_test_split\n",
    "X_train, X_test, y_train, y_test = train_test_split(X,y,test_size=0.25,shuffle=True, random_state=0)\n",
    "print(X_train.shape, X_test.shape)\n",
    "\n",
    "# Si besoin d'une décomposition\n",
    "from sklearn import decomposition\n",
    "pca = decomposition.PCA(n_components=150, whiten=True, svd_solver='randomized')\n",
    "pca.fit(X_train)\n",
    "X_train_pca = pca.transform(X_train)\n",
    "X_test_pca = pca.transform(X_test)\n",
    "print(X_train_pca.shape)\n",
    "print(X_test_pca.shape)"
   ]
  },
  {
   "attachments": {},
   "cell_type": "markdown",
   "metadata": {},
   "source": [
    "### *Classification noyau polynomial (SVC Kernel)*"
   ]
  },
  {
   "cell_type": "code",
   "execution_count": 6,
   "metadata": {},
   "outputs": [],
   "source": [
    "from sklearn import svm\n",
    "\n",
    "#Create a svm Classifier\n",
    "clf = svm.SVC(kernel='linear') # Linear Kernel\n",
    "clf.fit(X_train_pca, y_train)\n",
    "y_pred = clf.predict(X_test_pca)"
   ]
  },
  {
   "attachments": {},
   "cell_type": "markdown",
   "metadata": {},
   "source": [
    "### *Classification linéaire avec SGDC*"
   ]
  },
  {
   "cell_type": "code",
   "execution_count": 14,
   "metadata": {},
   "outputs": [],
   "source": [
    "from  sklearn.linear_model  import  SGDClassifier\n",
    "\n",
    "sg_clf = SGDClassifier(random_state=42)\n",
    "sg_clf.fit(X_train_pca, y_train)\n",
    "y_pred_sg = sg_clf.predict(X_test_pca)"
   ]
  },
  {
   "attachments": {},
   "cell_type": "markdown",
   "metadata": {},
   "source": [
    "### *Classification SVM Multiclasses*"
   ]
  },
  {
   "cell_type": "code",
   "execution_count": 16,
   "metadata": {},
   "outputs": [
    {
     "name": "stdout",
     "output_type": "stream",
     "text": [
      "[9]\n",
      "[6]\n"
     ]
    },
    {
     "data": {
      "image/png": "[encoded data removed]",
      "text/plain": [
       "<Figure size 640x480 with 1 Axes>"
      ]
     },
     "metadata": {},
     "output_type": "display_data"
    }
   ],
   "source": [
    "import matplotlib\n",
    "import matplotlib.pyplot as plt\n",
    "from sklearn import datasets, svm, metrics\n",
    "\n",
    "# La base de données digits\n",
    "digits = datasets.load_digits()\n",
    "X1=digits.images\n",
    "Y1=digits.target\n",
    "\n",
    "#affcihage d'une image\n",
    "some_digit = X1[109]#5\n",
    "plt.imshow(some_digit,cmap = matplotlib.cm.binary,interpolation='nearest')\n",
    "\n",
    "#Pour appliquer un classificateur sur ces données, nous devons aplatir l'image,\n",
    "# transformer les données dans une matrice (nbr_dimages, nbr_de_pixels):\n",
    "n_samples = len(digits.images)\n",
    "data = digits.images.reshape((n_samples, -1))\n",
    "\n",
    "# créer un classifieur SVM\n",
    "classifier = svm.SVC(gamma=0.001)\n",
    "\n",
    "# Partager la base de données en 2 bases : une base d'apprentissage + une base de test\n",
    "X_train, X_test, y_train, y_test = train_test_split(\n",
    "    data, digits.target, test_size=0.5, shuffle=False)\n",
    "\n",
    "# Entrainer le classifieur sur la base d'apprentissage\n",
    "classifier.fit(X_train, y_train)\n",
    "\n",
    "# prédiction sur quelques images de la base de test et vérification visuelle\n",
    "print(classifier.predict(X_test[[3]]))\n",
    "plt.imshow(X_test[[3]].reshape(8,8),cmap = matplotlib.cm.binary,interpolation='nearest')\n",
    "\n",
    "print(classifier.predict(X_test[[137]]))\n",
    "plt.imshow(X_test[[137]].reshape(8,8),cmap = matplotlib.cm.binary,interpolation='nearest')\n",
    "\n",
    "# Prédiction sur la base de test:\n",
    "predicted = classifier.predict(X_test)"
   ]
  },
  {
   "attachments": {},
   "cell_type": "markdown",
   "metadata": {},
   "source": [
    "### *Régression SVM*"
   ]
  },
  {
   "cell_type": "code",
   "execution_count": 17,
   "metadata": {},
   "outputs": [
    {
     "data": {
      "text/plain": [
       "<matplotlib.collections.PathCollection at 0x1674d2c10>"
      ]
     },
     "execution_count": 17,
     "metadata": {},
     "output_type": "execute_result"
    },
    {
     "data": {
      "image/png": "[encoded data removed]",
      "text/plain": [
       "<Figure size 640x480 with 1 Axes>"
      ]
     },
     "metadata": {},
     "output_type": "display_data"
    }
   ],
   "source": [
    "#Réression linéaire\n",
    "#####################\n",
    "#1)chargement des données\n",
    "import pandas as pd\n",
    "path=\"donnees/donnees_TP2.csv\"\n",
    "df = pd.read_csv(path)\n",
    "\n",
    "#selection de la première colonne de notre dataset et redimensionnement\n",
    "X = df.iloc[0:len(df),0]\n",
    "X=X.values.reshape(len(X),1)\n",
    "#selection de deuxième colonnes de notre dataset et redimensionnement\n",
    "Y = df.iloc[0:len(df),1] \n",
    "Y=Y.values.reshape(len(X),1).ravel()\n",
    "\n",
    "#2)visualisation des données\n",
    "import matplotlib.pyplot as plt\n",
    "axes = plt.axes()\n",
    "axes.grid() # dessiner une grille pour une meilleur lisibilité du graphe\n",
    "plt.scatter(X,Y) # X et Y sont les variables extraites dans le paragraphe précédent"
   ]
  },
  {
   "cell_type": "code",
   "execution_count": null,
   "metadata": {},
   "outputs": [],
   "source": [
    "from sklearn.svm import LinearSVR\n",
    "model = LinearSVR(epsilon=1.5,max_iter=1200000)\n",
    "\n",
    "# Entrainement du modèle\n",
    "model.fit(X, Y)"
   ]
  },
  {
   "attachments": {},
   "cell_type": "markdown",
   "metadata": {},
   "source": [
    "### *Matrices de confusion et tout le tintouin*"
   ]
  },
  {
   "cell_type": "code",
   "execution_count": null,
   "metadata": {},
   "outputs": [],
   "source": [
    "from sklearn.metrics import classification_report,confusion_matrix,multilabel_confusion_matrix\n",
    "\n",
    "print(classification_report(y_test, y_pred))\n",
    "print(confusion_matrix(y_test, y_pred))\n",
    "print(multilabel_confusion_matrix(y_test, y_pred))"
   ]
  },
  {
   "attachments": {},
   "cell_type": "markdown",
   "metadata": {},
   "source": [
    "# Régression\n",
    "- Régression SVM Linéaire (Linear SVR)\n",
    "- Régression SVM non Linéaire (SVR kernel=poly)\n",
    "- Régression linéaire classique "
   ]
  },
  {
   "attachments": {},
   "cell_type": "markdown",
   "metadata": {},
   "source": [
    "# Voisins les plus proches\n",
    "- méthodes des K-NN"
   ]
  },
  {
   "attachments": {},
   "cell_type": "markdown",
   "metadata": {},
   "source": [
    "# Arbres de décision\n",
    "- Arbre de classification \n",
    "- Arbre de régression"
   ]
  },
  {
   "attachments": {},
   "cell_type": "markdown",
   "metadata": {},
   "source": [
    "# Réseau de neurones\n",
    "- Kmeans"
   ]
  }
 ],
 "metadata": {
  "kernelspec": {
   "display_name": "Python 3",
   "language": "python",
   "name": "python3"
  },
  "language_info": {
   "codemirror_mode": {
    "name": "ipython",
    "version": 3
   },
   "file_extension": ".py",
   "mimetype": "text/x-python",
   "name": "python",
   "nbconvert_exporter": "python",
   "pygments_lexer": "ipython3",
   "version": "3.9.6"
  },
  "orig_nbformat": 4,
  "vscode": {
   "interpreter": {
    "hash": "31f2aee4e71d21fbe5cf8b01ff0e069b9275f58929596ceb00d14d90e3e16cd6"
   }
  }
 },
 "nbformat": 4,
 "nbformat_minor": 2
}
