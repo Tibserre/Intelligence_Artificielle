{
 "cells": [
  {
   "attachments": {},
   "cell_type": "markdown",
   "metadata": {},
   "source": [
    "# Classification\n",
    "- Classification SVM à marge souple (LinearSVC et Pipeline)\n",
    "- Classification SVM non linéaire (LinearSVC et Pipeline polynomial)\n",
    "- Classification Noyeau polynomial (SVC kernel poly et Pipeline)\n",
    "- Classification Noyau Radial Gaussien (SVC Kernel rbf et Pipeline standard)"
   ]
  },
  {
   "attachments": {},
   "cell_type": "markdown",
   "metadata": {},
   "source": [
    "### Préparation d'une classification"
   ]
  },
  {
   "cell_type": "code",
   "execution_count": 5,
   "metadata": {},
   "outputs": [
    {
     "name": "stdout",
     "output_type": "stream",
     "text": [
      "(400, 4096)\n",
      "(400, 4096)\n",
      "(400,)\n",
      "(300, 4096) (100, 4096)\n",
      "(300, 150)\n",
      "(100, 150)\n"
     ]
    }
   ],
   "source": [
    "import matplotlib.pyplot as plt\n",
    "from sklearn import datasets\n",
    "faces = datasets.fetch_olivetti_faces() \n",
    "print(faces.data.shape)\n",
    "X=faces.data\n",
    "y=faces.target\n",
    "print(X.shape)\n",
    "print(y.shape)   \n",
    "\n",
    "# Split de toutes les données\n",
    "from sklearn.model_selection import train_test_split\n",
    "X_train, X_test, y_train, y_test = train_test_split(X,y,test_size=0.25,shuffle=True, random_state=0)\n",
    "print(X_train.shape, X_test.shape)\n",
    "\n",
    "# Si besoin d'une décomposition\n",
    "from sklearn import decomposition\n",
    "pca = decomposition.PCA(n_components=150, whiten=True, svd_solver='randomized')\n",
    "pca.fit(X_train)\n",
    "X_train_pca = pca.transform(X_train)\n",
    "X_test_pca = pca.transform(X_test)\n",
    "print(X_train_pca.shape)\n",
    "print(X_test_pca.shape)"
   ]
  },
  {
   "attachments": {},
   "cell_type": "markdown",
   "metadata": {},
   "source": [
    "### *Classification noyau polynomial (SVC Kernel)*"
   ]
  },
  {
   "cell_type": "code",
   "execution_count": null,
   "metadata": {},
   "outputs": [],
   "source": [
    "from sklearn import svm\n",
    "\n",
    "#Create a svm Classifier\n",
    "clf = svm.SVC(kernel='linear') # Linear Kernel\n",
    "clf.fit(X_train_pca, y_train)\n",
    "y_pred = clf.predict(X_test_pca)"
   ]
  },
  {
   "attachments": {},
   "cell_type": "markdown",
   "metadata": {},
   "source": [
    "# Régression\n",
    "- Régression SVM Linéaire (Linear SVR)\n",
    "- Régression SVM non Linéaire (SVR kernel=poly)\n",
    "- Régression linéaire classique "
   ]
  },
  {
   "attachments": {},
   "cell_type": "markdown",
   "metadata": {},
   "source": [
    "# Voisins les plus proches\n",
    "- méthodes des K-NN"
   ]
  },
  {
   "attachments": {},
   "cell_type": "markdown",
   "metadata": {},
   "source": [
    "# Arbres de décision\n",
    "- Arbre de classification \n",
    "- Arbre de régression"
   ]
  },
  {
   "attachments": {},
   "cell_type": "markdown",
   "metadata": {},
   "source": [
    "# Réseau de neurones\n",
    "- Kmeans"
   ]
  }
 ],
 "metadata": {
  "kernelspec": {
   "display_name": "Python 3",
   "language": "python",
   "name": "python3"
  },
  "language_info": {
   "codemirror_mode": {
    "name": "ipython",
    "version": 3
   },
   "file_extension": ".py",
   "mimetype": "text/x-python",
   "name": "python",
   "nbconvert_exporter": "python",
   "pygments_lexer": "ipython3",
   "version": "3.9.6"
  },
  "orig_nbformat": 4,
  "vscode": {
   "interpreter": {
    "hash": "31f2aee4e71d21fbe5cf8b01ff0e069b9275f58929596ceb00d14d90e3e16cd6"
   }
  }
 },
 "nbformat": 4,
 "nbformat_minor": 2
}
