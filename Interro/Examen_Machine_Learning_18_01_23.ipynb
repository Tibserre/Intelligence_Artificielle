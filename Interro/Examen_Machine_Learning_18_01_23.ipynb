{
 "cells": [
  {
   "cell_type": "markdown",
   "metadata": {
    "deletable": false,
    "editable": false
   },
   "source": [
    "<div class=\"alert alert-block alert-info \" style=' color:MidnightBlue; background-color: AliceBlue ;  border-radius: 30px; border-color: black; '>\n",
    "<hr><h1 > Examen d'intelligence artificielle II - MIN 5A -  <img  src=\"   data:image/png;base64,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\" align=\"right\"  width=\"100\" > \n",
    " <br>\n",
    "     <br>\n",
    "    <br>\n",
    " <hr>\n",
    "</div>\n"
   ]
  },
  {
   "cell_type": "markdown",
   "metadata": {
    "id": "EcrpId6VqBBU"
   },
   "source": [
    "*Entrez votre Nom, Prénom et Majeure ici*"
   ]
  },
  {
   "cell_type": "markdown",
   "metadata": {
    "deletable": false,
    "editable": false
   },
   "source": [
    "<div class=\"alert alert-block alert-info\" style='color:midnightblue; background-color: AliceBlue ; border-radius: 30px; border-color: black; '> \n",
    "    <hr><h2>1.\tPartie classification </h2><hr>    \n",
    "    <ol>\n",
    "Vous allez utiliser pour résoudre un problème de classification la base de données\n",
    "champignons.csv. Cette base de données comprend des entrées correspondantes à des\n",
    "caractéristiques de champignons (surface, couleur, etc). La sortie correspond à la comestibilité des\n",
    "champignons ('p' pour poisonous càd toxique et 'e' pour edible càd commestible).\n",
    "\n",
    " <br>\n",
    "    </ol>\n",
    "</div>"
   ]
  },
  {
   "cell_type": "markdown",
   "metadata": {
    "deletable": false,
    "editable": false
   },
   "source": [
    "<div class=\"alert alert-block alert-info\" style='color:MidnightBlue; background-color: AliceBlue ; border-radius: 30px; border-color: black; '>\n",
    "1.1 Importez les données en utilisant la bibliothèque pandas et la fonction read_csv().<br><br>\n",
    "1.2 Encodez les données en données chiffres plutôt que des lettres en exécutant les lignes de\n",
    "code suivantes qui permettent de le faire :\n",
    "<CODE>\n",
    "from sklearn.preprocessing import LabelEncoder\n",
    "labelencoder=LabelEncoder()\n",
    "for col in raw_data.columns:\n",
    "    raw_data[col] = labelencoder.fit_transform(raw_data[col])\n",
    "raw_data.head()\n",
    "</CODE>\n",
    "<br>\n",
    "1.3 La fonction read_csv(), renvoie un DataFrame de plusieurs colonnes. Séparez les deux\n",
    "variables X et Y en utilisant l’instruction iloc[] de telle sorte que les sorties Y correspondent\n",
    "à la première colonne càd nom_bd.iloc[:,0] et les autres colonnes restantes correspondent aux\n",
    "observations X.<br><br>\n",
    "1.4 Utilisez l’instruction train_test_split pour diviser la base de données X et Y en base\n",
    "d’apprentissage X_train et Y_train et en base de test X_test et Y_test avec un ratio de taille\n",
    "de test =0.33 et le paramètre shuffle à True.<br><br>\n",
    "</div>"
   ]
  },
  {
   "cell_type": "code",
   "execution_count": 2,
   "metadata": {},
   "outputs": [
    {
     "data": {
      "text/html": [
       "<div>\n",
       "<style scoped>\n",
       "    .dataframe tbody tr th:only-of-type {\n",
       "        vertical-align: middle;\n",
       "    }\n",
       "\n",
       "    .dataframe tbody tr th {\n",
       "        vertical-align: top;\n",
       "    }\n",
       "\n",
       "    .dataframe thead th {\n",
       "        text-align: right;\n",
       "    }\n",
       "</style>\n",
       "<table border=\"1\" class=\"dataframe\">\n",
       "  <thead>\n",
       "    <tr style=\"text-align: right;\">\n",
       "      <th></th>\n",
       "      <th>class</th>\n",
       "      <th>cap-shape</th>\n",
       "      <th>cap-surface</th>\n",
       "      <th>cap-color</th>\n",
       "      <th>bruises</th>\n",
       "      <th>odor</th>\n",
       "      <th>gill-attachment</th>\n",
       "      <th>gill-spacing</th>\n",
       "      <th>gill-size</th>\n",
       "      <th>gill-color</th>\n",
       "      <th>...</th>\n",
       "      <th>stalk-surface-below-ring</th>\n",
       "      <th>stalk-color-above-ring</th>\n",
       "      <th>stalk-color-below-ring</th>\n",
       "      <th>veil-type</th>\n",
       "      <th>veil-color</th>\n",
       "      <th>ring-number</th>\n",
       "      <th>ring-type</th>\n",
       "      <th>spore-print-color</th>\n",
       "      <th>population</th>\n",
       "      <th>habitat</th>\n",
       "    </tr>\n",
       "  </thead>\n",
       "  <tbody>\n",
       "    <tr>\n",
       "      <th>0</th>\n",
       "      <td>1</td>\n",
       "      <td>5</td>\n",
       "      <td>2</td>\n",
       "      <td>4</td>\n",
       "      <td>1</td>\n",
       "      <td>6</td>\n",
       "      <td>1</td>\n",
       "      <td>0</td>\n",
       "      <td>1</td>\n",
       "      <td>4</td>\n",
       "      <td>...</td>\n",
       "      <td>2</td>\n",
       "      <td>7</td>\n",
       "      <td>7</td>\n",
       "      <td>0</td>\n",
       "      <td>2</td>\n",
       "      <td>1</td>\n",
       "      <td>4</td>\n",
       "      <td>2</td>\n",
       "      <td>3</td>\n",
       "      <td>5</td>\n",
       "    </tr>\n",
       "    <tr>\n",
       "      <th>1</th>\n",
       "      <td>0</td>\n",
       "      <td>5</td>\n",
       "      <td>2</td>\n",
       "      <td>9</td>\n",
       "      <td>1</td>\n",
       "      <td>0</td>\n",
       "      <td>1</td>\n",
       "      <td>0</td>\n",
       "      <td>0</td>\n",
       "      <td>4</td>\n",
       "      <td>...</td>\n",
       "      <td>2</td>\n",
       "      <td>7</td>\n",
       "      <td>7</td>\n",
       "      <td>0</td>\n",
       "      <td>2</td>\n",
       "      <td>1</td>\n",
       "      <td>4</td>\n",
       "      <td>3</td>\n",
       "      <td>2</td>\n",
       "      <td>1</td>\n",
       "    </tr>\n",
       "    <tr>\n",
       "      <th>2</th>\n",
       "      <td>0</td>\n",
       "      <td>0</td>\n",
       "      <td>2</td>\n",
       "      <td>8</td>\n",
       "      <td>1</td>\n",
       "      <td>3</td>\n",
       "      <td>1</td>\n",
       "      <td>0</td>\n",
       "      <td>0</td>\n",
       "      <td>5</td>\n",
       "      <td>...</td>\n",
       "      <td>2</td>\n",
       "      <td>7</td>\n",
       "      <td>7</td>\n",
       "      <td>0</td>\n",
       "      <td>2</td>\n",
       "      <td>1</td>\n",
       "      <td>4</td>\n",
       "      <td>3</td>\n",
       "      <td>2</td>\n",
       "      <td>3</td>\n",
       "    </tr>\n",
       "    <tr>\n",
       "      <th>3</th>\n",
       "      <td>1</td>\n",
       "      <td>5</td>\n",
       "      <td>3</td>\n",
       "      <td>8</td>\n",
       "      <td>1</td>\n",
       "      <td>6</td>\n",
       "      <td>1</td>\n",
       "      <td>0</td>\n",
       "      <td>1</td>\n",
       "      <td>5</td>\n",
       "      <td>...</td>\n",
       "      <td>2</td>\n",
       "      <td>7</td>\n",
       "      <td>7</td>\n",
       "      <td>0</td>\n",
       "      <td>2</td>\n",
       "      <td>1</td>\n",
       "      <td>4</td>\n",
       "      <td>2</td>\n",
       "      <td>3</td>\n",
       "      <td>5</td>\n",
       "    </tr>\n",
       "    <tr>\n",
       "      <th>4</th>\n",
       "      <td>0</td>\n",
       "      <td>5</td>\n",
       "      <td>2</td>\n",
       "      <td>3</td>\n",
       "      <td>0</td>\n",
       "      <td>5</td>\n",
       "      <td>1</td>\n",
       "      <td>1</td>\n",
       "      <td>0</td>\n",
       "      <td>4</td>\n",
       "      <td>...</td>\n",
       "      <td>2</td>\n",
       "      <td>7</td>\n",
       "      <td>7</td>\n",
       "      <td>0</td>\n",
       "      <td>2</td>\n",
       "      <td>1</td>\n",
       "      <td>0</td>\n",
       "      <td>3</td>\n",
       "      <td>0</td>\n",
       "      <td>1</td>\n",
       "    </tr>\n",
       "  </tbody>\n",
       "</table>\n",
       "<p>5 rows × 23 columns</p>\n",
       "</div>"
      ],
      "text/plain": [
       "   class  cap-shape  cap-surface  cap-color  bruises  odor  gill-attachment  \\\n",
       "0      1          5            2          4        1     6                1   \n",
       "1      0          5            2          9        1     0                1   \n",
       "2      0          0            2          8        1     3                1   \n",
       "3      1          5            3          8        1     6                1   \n",
       "4      0          5            2          3        0     5                1   \n",
       "\n",
       "   gill-spacing  gill-size  gill-color  ...  stalk-surface-below-ring  \\\n",
       "0             0          1           4  ...                         2   \n",
       "1             0          0           4  ...                         2   \n",
       "2             0          0           5  ...                         2   \n",
       "3             0          1           5  ...                         2   \n",
       "4             1          0           4  ...                         2   \n",
       "\n",
       "   stalk-color-above-ring  stalk-color-below-ring  veil-type  veil-color  \\\n",
       "0                       7                       7          0           2   \n",
       "1                       7                       7          0           2   \n",
       "2                       7                       7          0           2   \n",
       "3                       7                       7          0           2   \n",
       "4                       7                       7          0           2   \n",
       "\n",
       "   ring-number  ring-type  spore-print-color  population  habitat  \n",
       "0            1          4                  2           3        5  \n",
       "1            1          4                  3           2        1  \n",
       "2            1          4                  3           2        3  \n",
       "3            1          4                  2           3        5  \n",
       "4            1          0                  3           0        1  \n",
       "\n",
       "[5 rows x 23 columns]"
      ]
     },
     "execution_count": 2,
     "metadata": {},
     "output_type": "execute_result"
    }
   ],
   "source": [
    "#Insérez votre code ici\n",
    "#Question 1.1\n",
    "import pandas as pd\n",
    "path=\"champignons.csv\"\n",
    "raw_data = pd.read_csv(path)\n",
    "\n",
    "#Queston 1.2\n",
    "from sklearn.preprocessing import LabelEncoder\n",
    "labelencoder=LabelEncoder()\n",
    "for col in raw_data.columns:\n",
    "    raw_data[col] = labelencoder.fit_transform(raw_data[col])\n",
    "raw_data.head()\n",
    "\n"
   ]
  },
  {
   "cell_type": "code",
   "execution_count": 11,
   "metadata": {},
   "outputs": [
    {
     "name": "stdout",
     "output_type": "stream",
     "text": [
      "(8124,) (8124, 22)\n"
     ]
    }
   ],
   "source": [
    "#Question 1.3\n",
    "\n",
    "Y = raw_data.iloc[:,0]\n",
    "X= raw_data.iloc[:,1:]\n",
    "\n",
    "print(Y.shape, X.shape)\n",
    "\n",
    "#Question 1.4\n",
    "from sklearn.model_selection import train_test_split\n",
    "X_train, X_test, y_train, y_test = train_test_split(X,Y,test_size=0.33,shuffle=True)\n"
   ]
  },
  {
   "cell_type": "markdown",
   "metadata": {
    "deletable": false,
    "editable": false
   },
   "source": [
    "\n",
    "<div class=\"alert alert-block alert-info\" style='color:MidnightBlue; background-color: AliceBlue ; border-radius: 30px; border-color: black; '>\n",
    "    <B> Méthode 1 </B><br>\n",
    "    <br>\n",
    "1.5 Appliquez un classifieur en utilisant SVC avec comme paramètre kernel='linear'.<br><br>\n",
    "1.6 Entrainez le classifieur sur les données d’apprentissage.<br><br>\n",
    "1.7 Réalisez la prédiction sur les données de test.<br><br>\n",
    "1.8 Affichez la matrice de confusion obtenue sur les données de test. <br>\n",
    "    </div>"
   ]
  },
  {
   "cell_type": "code",
   "execution_count": 13,
   "metadata": {},
   "outputs": [
    {
     "name": "stdout",
     "output_type": "stream",
     "text": [
      "[[1363   44]\n",
      " [  51 1223]]\n"
     ]
    }
   ],
   "source": [
    "#Question 1.5\n",
    "from sklearn import svm\n",
    "\n",
    "#Create a svm Classifier\n",
    "clf = svm.SVC(kernel='linear')\n",
    "\n",
    "#Question1.6\n",
    "clf.fit(X_train, y_train)\n",
    "#Question 1.7\n",
    "y_pred = clf.predict(X_test)\n",
    "\n",
    "#Question 1.8\n",
    "from sklearn.metrics import confusion_matrix\n",
    "\n",
    "print(confusion_matrix(y_test, y_pred))\n",
    "\n",
    "\n"
   ]
  },
  {
   "attachments": {},
   "cell_type": "markdown",
   "metadata": {},
   "source": [
    "### Courte fonction pour afficher la matrice de confusion proprement"
   ]
  },
  {
   "cell_type": "code",
   "execution_count": 15,
   "metadata": {},
   "outputs": [
    {
     "name": "stdout",
     "output_type": "stream",
     "text": [
      "+------------+------------+------------+\n",
      "|            | Positif    | Négatif    |\n",
      "+------------+------------+------------+\n",
      "| Réel positif |       1363 |         44 |\n",
      "+------------+------------+------------+\n",
      "| Réel négatif |         51 |       1223 |\n",
      "+------------+------------+------------+\n"
     ]
    }
   ],
   "source": [
    "def confusion_matrix_ascii(confusion_matrix):\n",
    "  # Création de la table ASCII\n",
    "  print('+------------+------------+------------+')\n",
    "\n",
    "  # En-tête de la table\n",
    "  print('|            | Positif    | Négatif    |')\n",
    "  print('+------------+------------+------------+')\n",
    "\n",
    "  # Lignes de la table\n",
    "  for i, row in enumerate(confusion_matrix):\n",
    "    if i == 0:\n",
    "      print('| Réel positif |', end='')\n",
    "    else:\n",
    "      print('| Réel négatif |', end='')\n",
    "    for cell in row:\n",
    "      print(f' {cell:10d} |', end='')\n",
    "    print()\n",
    "    print('+------------+------------+------------+')\n",
    "\n",
    "confusion_matrix_ascii(confusion_matrix(y_test, y_pred))\n"
   ]
  },
  {
   "cell_type": "markdown",
   "metadata": {
    "deletable": false,
    "editable": false
   },
   "source": [
    "\n",
    "<div class=\"alert alert-block alert-info\" style='color:MidnightBlue; background-color: AliceBlue ; border-radius: 30px; border-color: black; '>\n",
    "    <B> Méthode 2 </B><br>\n",
    "    <br>\n",
    "1.9 Implémentez un classifieur via SGDClassifier en prenant comme paramètre random_state=42.<br><br>\n",
    "1.10 Entrainez le classifieur sur les données d’apprentissage.<br><br>\n",
    "1.11 Réalisez la prédiction sur les données de test.<br><br>\n",
    "1.12 Affichez la matrice de confusion obtenue sur les données de test.<br>\n",
    "    </div>"
   ]
  },
  {
   "cell_type": "code",
   "execution_count": 17,
   "metadata": {},
   "outputs": [
    {
     "name": "stdout",
     "output_type": "stream",
     "text": [
      "+------------+------------+------------+\n",
      "|            | Positif    | Négatif    |\n",
      "+------------+------------+------------+\n",
      "| Réel positif |        455 |        952 |\n",
      "+------------+------------+------------+\n",
      "| Réel négatif |          1 |       1273 |\n",
      "+------------+------------+------------+\n"
     ]
    }
   ],
   "source": [
    "#Question 1.9, 1.10, 1.11, 1.12\n",
    "\n",
    "from  sklearn.linear_model  import  SGDClassifier\n",
    "\n",
    "sg_clf = SGDClassifier(random_state=42)\n",
    "sg_clf.fit(X_train, y_train)\n",
    "y_pred_sg = sg_clf.predict(X_test)\n",
    "\n",
    "confusion_matrix_ascii(confusion_matrix(y_test, y_pred_sg))\n",
    "\n",
    "# On observe beaoucp de réels positifs qui sont considérés comme négaitfs, le modèle n'est pas adapté "
   ]
  },
  {
   "cell_type": "markdown",
   "metadata": {
    "deletable": false,
    "editable": false
   },
   "source": [
    "\n",
    "<div class=\"alert alert-block alert-info\" style='color:MidnightBlue; background-color: AliceBlue ; border-radius: 30px; border-color: black; '>\n",
    "    <B> Méthode 3 </B><br>\n",
    "    <br>\n",
    "1.13 Créer un classifieur implémenté via LinearSVC en utilisant comme paramètres : C=1,\n",
    "dual=False, random_state=42, et un nombre d’itérations max = 1200000.<br><br>\n",
    "1.14 Entrainez le classifieur sur les données d’apprentissage.<br><br>\n",
    "1.15 Réalisez la prédiction sur les données de test.<br><br>\n",
    "1.16 Affichez la matrice de confusion obtenue sur les données de test.<br>\n",
    "    </div>"
   ]
  },
  {
   "cell_type": "code",
   "execution_count": 20,
   "metadata": {},
   "outputs": [
    {
     "name": "stdout",
     "output_type": "stream",
     "text": [
      "+------------+------------+------------+\n",
      "|            | Positif    | Négatif    |\n",
      "+------------+------------+------------+\n",
      "| Réel positif |       1350 |         57 |\n",
      "+------------+------------+------------+\n",
      "| Réel négatif |         67 |       1207 |\n",
      "+------------+------------+------------+\n"
     ]
    }
   ],
   "source": [
    "#Insérez votre code ici\n",
    "\n",
    "from sklearn.pipeline import Pipeline\n",
    "from sklearn.preprocessing import StandardScaler\n",
    "from sklearn.svm import LinearSVC\n",
    "sgd_clf = Pipeline([\n",
    "        (\"scaler\", StandardScaler()),\n",
    "        (\"linear_svc\", LinearSVC(C=1,  dual=False, random_state=42,max_iter=1200000)),])\n",
    "\n",
    "sgd_clf.fit(X_train,y_train)\n",
    "\n",
    "y_pred_sgd=sgd_clf.predict(X_test)\n",
    "\n",
    "confusion_matrix_ascii(confusion_matrix(y_test, y_pred_sgd))\n"
   ]
  },
  {
   "cell_type": "markdown",
   "metadata": {
    "deletable": false,
    "editable": false
   },
   "source": [
    "\n",
    "<div class=\"alert alert-block alert-info\" style='color:MidnightBlue; background-color: AliceBlue ; border-radius: 30px; border-color: black; '>\n",
    "    <B> Etude comparative </B><br>\n",
    "    <br>\n",
    "1.17 Commentez les résultats obtenus pour les implémentations précédentes en expliquant\n",
    "d’abord le nom et le principe de base de l’algorithme utilisé puis en présentant et en\n",
    "discutant les résultats obtenus de chaque matrice de confusion et en fournissant à chaque\n",
    "fois le nombre de vrais positifs, vrais négatifs, faux positifs et faux négatifs.<br>\n",
    "    </div>"
   ]
  },
  {
   "cell_type": "code",
   "execution_count": 24,
   "metadata": {},
   "outputs": [
    {
     "name": "stdout",
     "output_type": "stream",
     "text": [
      "SVC avec kernel=linear\n",
      "+------------+------------+------------+\n",
      "|            | Positif    | Négatif    |\n",
      "+------------+------------+------------+\n",
      "| Réel positif |       1363 |         44 |\n",
      "+------------+------------+------------+\n",
      "| Réel négatif |         51 |       1223 |\n",
      "+------------+------------+------------+\n"
     ]
    }
   ],
   "source": [
    "#Insérez votre code ici\n",
    "print(\"SVC avec kernel=linear\")\n",
    "confusion_matrix_ascii(confusion_matrix(y_test, y_pred))"
   ]
  },
  {
   "attachments": {},
   "cell_type": "markdown",
   "metadata": {},
   "source": [
    "### *SVC avec kernel=linear*\n",
    "\n",
    "Les résultats obtenus sont tout à fait acceptables, avec peu de faux négatifs et faux positifs (44, 51)\n",
    "\n",
    "___________________________________________________"
   ]
  },
  {
   "cell_type": "code",
   "execution_count": 25,
   "metadata": {},
   "outputs": [
    {
     "name": "stdout",
     "output_type": "stream",
     "text": [
      "SGDClassifier\n",
      "+------------+------------+------------+\n",
      "|            | Positif    | Négatif    |\n",
      "+------------+------------+------------+\n",
      "| Réel positif |        455 |        952 |\n",
      "+------------+------------+------------+\n",
      "| Réel négatif |          1 |       1273 |\n",
      "+------------+------------+------------+\n"
     ]
    }
   ],
   "source": [
    "print(\"SGDClassifier\")\n",
    "confusion_matrix_ascii(confusion_matrix(y_test, y_pred_sg))\n",
    "\n"
   ]
  },
  {
   "attachments": {},
   "cell_type": "markdown",
   "metadata": {},
   "source": [
    "### *SGDClassifier*\n",
    "\n",
    "Un nombre particulièrement élevé de faux négatifs, ce modèle n'est pas adapté\n",
    "\n",
    "___________________________________________________"
   ]
  },
  {
   "cell_type": "code",
   "execution_count": 26,
   "metadata": {},
   "outputs": [
    {
     "name": "stdout",
     "output_type": "stream",
     "text": [
      "Linear SVC\n",
      "+------------+------------+------------+\n",
      "|            | Positif    | Négatif    |\n",
      "+------------+------------+------------+\n",
      "| Réel positif |       1350 |         57 |\n",
      "+------------+------------+------------+\n",
      "| Réel négatif |         67 |       1207 |\n",
      "+------------+------------+------------+\n"
     ]
    }
   ],
   "source": [
    "print(\"Linear SVC\")\n",
    "confusion_matrix_ascii(confusion_matrix(y_test, y_pred_sgd))"
   ]
  },
  {
   "attachments": {},
   "cell_type": "markdown",
   "metadata": {},
   "source": [
    "### *Linear SVC*\n",
    "\n",
    "Ce modèle a des performances proches du premier modèle réalisé\n",
    "\n",
    "___________________________________________________"
   ]
  },
  {
   "cell_type": "markdown",
   "metadata": {
    "deletable": false,
    "editable": false
   },
   "source": [
    "\n",
    "<div class=\"alert alert-block alert-info\" style='color:MidnightBlue; background-color: AliceBlue ; border-radius: 30px; border-color: black; '>\n",
    "    <B> Validation croisée </B><br>\n",
    "    <br>\n",
    "1.18 Effectuez une validation croisée sur les données d’apprentissage en important la fonction\n",
    "cross_val_score() de la librairie sklearn.model_selection et en l’utilisant avec 4 plis et en\n",
    "choisissant un modèle parmi ceux des implémentations précédentes. Afficher le score de\n",
    "chacun de ces 4 plis.<br><br>\n",
    "1.19 Calculer et afficher le score global de la validation croisée sur la base d’apprentissage.<br><br>\n",
    "1.20 Importez la fonction cross_val_predict() de la librairie sklearn.model_selection. Utiliser cette\n",
    "fonction sur les données d’apprentissage en utilisant 4 plis et stockez le résultat dans une\n",
    "variable Y_train_predict.<br><br>\n",
    "1.21 Affichez la matrice de confusion obtenue sur la base d’apprentissage.<br><br>\n",
    "1.22 Affichez les scores : prédiction, rappel et f1 sur la base d’apprentissage. Expliquez le but de\n",
    "la validation croisée et que peut-on déduire des résultats obtenus.<br><br>\n",
    "1.23 Récupérez les données de prédictions, rappels et thresholds (le seuil de décision) sur la base\n",
    "d’apprentissage dans le but de tracer dans le même graphique la précision en fonction de\n",
    "thresholds et le rappel en fonction de thresholds. A quoi correspond ce graphique.<br><br>\n",
    "1.24 Tracer sur une autre figure la précision en fonction du rappel.<br><br>\n",
    "1.25 Tracer la courbe ROC. Commentez le résultat de cette courbe.<br>\n",
    "    </div>"
   ]
  },
  {
   "cell_type": "code",
   "execution_count": 66,
   "metadata": {},
   "outputs": [],
   "source": [
    "#Insérez votre code ici"
   ]
  },
  {
   "cell_type": "markdown",
   "metadata": {
    "deletable": false,
    "editable": false
   },
   "source": [
    "<div class=\"alert alert-block alert-info\" style='color:midnightblue; background-color: AliceBlue ; border-radius: 30px; border-color: black; '> \n",
    "    <hr><h2>2.\tPartie regression </h2><hr>    \n",
    "    <ol> \n",
    "   \n",
    "Pour cette partie, on vous demande d’utiliser des données synthétiques générées à partir des lignes de code suivantes : \n",
    "        \n",
    "<CODE> \n",
    "import numpy as np\n",
    "rng = np.random.RandomState(1)\n",
    "X = np.sort(5 * rng.rand(200, 1), axis=0)\n",
    "y = np.sin(X).ravel()\n",
    "y[::1] += 0.2 * (0.5 - rng.rand(200))\n",
    "X_test = np.arange(0.0, 5.0, 0.01)[:, np.newaxis]\n",
    "</CODE> <br>\n",
    "</ol> \n",
    "</div>"
   ]
  },
  {
   "cell_type": "code",
   "execution_count": 66,
   "metadata": {},
   "outputs": [],
   "source": [
    "#Insérez votre code ici"
   ]
  },
  {
   "cell_type": "markdown",
   "metadata": {
    "deletable": false,
    "editable": false
   },
   "source": [
    "<div class=\"alert alert-block alert-info\" style='color:MidnightBlue; background-color: AliceBlue ; border-radius: 30px; border-color: black; '>\n",
    "        <B> Méthode 1 </B><br>\n",
    "    <br>\n",
    "2.1 Construire un modèle d’arbre de régression de profondeur 3 pour ces données.<br><br>  \n",
    "2.2 Entrainer le modèle construit sur la base X, y.<br><br>\n",
    "2.3 Faites la prédiction sur la base de test pour produire y_predicted<br><br>\n",
    "2.4 Affichez les données X, y en forme de nuage de points. Affichez le graphe de prédiction\n",
    "sur le même graphe en rouge.<br>\n",
    "\n",
    "</div>"
   ]
  },
  {
   "cell_type": "code",
   "execution_count": 67,
   "metadata": {
    "id": "aeThyuaSiKsV"
   },
   "outputs": [],
   "source": [
    "#Insérez votre code ici"
   ]
  },
  {
   "cell_type": "markdown",
   "metadata": {
    "deletable": false,
    "editable": false
   },
   "source": [
    "<div class=\"alert alert-block alert-info\" style='color:MidnightBlue; background-color: AliceBlue ; border-radius: 30px; border-color: black; '>\n",
    "            <B> Méthode 2 </B><br>\n",
    "    <br>\n",
    "2.5 Créez un modèle de régression polynomiale implémenté dans scikit-learn. Expliquez\n",
    "comment se fait l’implémentation.<br><br>\n",
    "2.6 Appliquez ce modèle aux données pour l’entrainer sur X, Y.<br><br>\n",
    "2.7 Faites la prédiction sur X pour produire y_pred_poly.<br><br>\n",
    "2.8 Affichez sur le graphe des données en affichant les données en forme de nuages de points\n",
    "et l’allure du modèle en rouge.<br><br>\n",
    "2.9 Affichez les scores RMSE et R2 entre y_pred_poly et Y.<br><br>\n",
    "    </div>"
   ]
  },
  {
   "cell_type": "code",
   "execution_count": 68,
   "metadata": {
    "id": "8U8nYJGntFiF"
   },
   "outputs": [],
   "source": [
    "#Insérez votre code ici"
   ]
  },
  {
   "cell_type": "markdown",
   "metadata": {
    "deletable": false,
    "editable": false
   },
   "source": [
    "<div class=\"alert alert-block alert-info\" style='color:MidnightBlue; background-color: AliceBlue ; border-radius: 30px; border-color: black; '>\n",
    "                <B> Méthode 3 </B><br>\n",
    "    <br>\n",
    "2.10 Appliquez l’algo KNN en choisissant K=2 et en entrainant le modèle sur les données X et\n",
    "y.<br><br>\n",
    "2.11 Faites la prédiction sur X pour produire y_predknn.<br><br>\n",
    "2.12 Visualisez ces données en les affichant sous forme de nuage de points. Tracez la courbe\n",
    "prédictive des données en rouge.<br><br>\n",
    "2.13 Affichez les scores RMSE et R2 entre y_predknn et y.<br>\n",
    "    </div>\n"
   ]
  },
  {
   "cell_type": "code",
   "execution_count": 69,
   "metadata": {
    "id": "pJBgz9n7p67U"
   },
   "outputs": [],
   "source": [
    "#Insérez votre code ici"
   ]
  },
  {
   "cell_type": "markdown",
   "metadata": {
    "deletable": false,
    "editable": false
   },
   "source": [
    "<div class=\"alert alert-block alert-info\" style='color:MidnightBlue; background-color: AliceBlue ; border-radius: 30px; border-color: black; '>\n",
    "                <B> Etude comparative </B><br>\n",
    "    <br>\n",
    "2.14 Expliquez selon vous quelle méthode est la meilleure pour prédire le salaire du nouvel\n",
    "employer. Analysez et discutez les résultats obtenus.<br>\n",
    "        </div>"
   ]
  },
  {
   "cell_type": "code",
   "execution_count": null,
   "metadata": {},
   "outputs": [],
   "source": [
    "#Insérez votre réponse ici"
   ]
  }
 ],
 "metadata": {
  "celltoolbar": "Aucun(e)",
  "colab": {
   "collapsed_sections": [],
   "name": "DS1_DL.ipynb",
   "provenance": []
  },
  "kernelspec": {
   "display_name": "Python 3",
   "language": "python",
   "name": "python3"
  },
  "language_info": {
   "codemirror_mode": {
    "name": "ipython",
    "version": 3
   },
   "file_extension": ".py",
   "mimetype": "text/x-python",
   "name": "python",
   "nbconvert_exporter": "python",
   "pygments_lexer": "ipython3",
   "version": "3.9.6"
  },
  "latex_envs": {
   "LaTeX_envs_menu_present": true,
   "autoclose": false,
   "autocomplete": true,
   "bibliofile": "biblio.bib",
   "cite_by": "apalike",
   "current_citInitial": 1,
   "eqLabelWithNumbers": true,
   "eqNumInitial": 1,
   "hotkeys": {
    "equation": "Ctrl-E",
    "itemize": "Ctrl-I"
   },
   "labels_anchors": false,
   "latex_user_defs": false,
   "report_style_numbering": false,
   "user_envs_cfg": false
  },
  "varInspector": {
   "cols": {
    "lenName": 16,
    "lenType": 16,
    "lenVar": 40
   },
   "kernels_config": {
    "python": {
     "delete_cmd_postfix": "",
     "delete_cmd_prefix": "del ",
     "library": "var_list.py",
     "varRefreshCmd": "print(var_dic_list())"
    },
    "r": {
     "delete_cmd_postfix": ") ",
     "delete_cmd_prefix": "rm(",
     "library": "var_list.r",
     "varRefreshCmd": "cat(var_dic_list()) "
    }
   },
   "types_to_exclude": [
    "module",
    "function",
    "builtin_function_or_method",
    "instance",
    "_Feature"
   ],
   "window_display": false
  },
  "vscode": {
   "interpreter": {
    "hash": "31f2aee4e71d21fbe5cf8b01ff0e069b9275f58929596ceb00d14d90e3e16cd6"
   }
  }
 },
 "nbformat": 4,
 "nbformat_minor": 1
}
